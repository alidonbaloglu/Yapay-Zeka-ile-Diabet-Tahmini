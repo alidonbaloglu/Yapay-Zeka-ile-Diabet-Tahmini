{
 "cells": [
  {
   "cell_type": "code",
   "execution_count": null,
   "id": "10a300b7-2424-4d5a-a519-b814174051d5",
   "metadata": {},
   "outputs": [],
   "source": [
    "#veri setinindeki aykırı ve eksik gözlemleri gerekli istatistiksel yöntemlerle dolduracağız"
   ]
  },
  {
   "cell_type": "markdown",
   "id": "491f3d22-b027-4d83-aebe-33c0a57644ee",
   "metadata": {},
   "source": [
    "# Aykırı Gözlem Analizi"
   ]
  },
  {
   "cell_type": "markdown",
   "id": "54a75217-bfec-4aca-823b-c57dec3a1f65",
   "metadata": {},
   "source": [
    "## Aykırı Değerleri Yakalamak"
   ]
  },
  {
   "cell_type": "code",
   "execution_count": 1,
   "id": "195a5289-0fef-4933-9a1a-648a8c6d85ee",
   "metadata": {},
   "outputs": [],
   "source": [
    "import seaborn as sns\n",
    "import pandas as pd\n",
    "import numpy as np"
   ]
  },
  {
   "cell_type": "code",
   "execution_count": 71,
   "id": "0b50f269-3a8e-438f-b6fa-ed92a1a20c0d",
   "metadata": {},
   "outputs": [
    {
     "data": {
      "text/html": [
       "<div>\n",
       "<style scoped>\n",
       "    .dataframe tbody tr th:only-of-type {\n",
       "        vertical-align: middle;\n",
       "    }\n",
       "\n",
       "    .dataframe tbody tr th {\n",
       "        vertical-align: top;\n",
       "    }\n",
       "\n",
       "    .dataframe thead th {\n",
       "        text-align: right;\n",
       "    }\n",
       "</style>\n",
       "<table border=\"1\" class=\"dataframe\">\n",
       "  <thead>\n",
       "    <tr style=\"text-align: right;\">\n",
       "      <th></th>\n",
       "      <th>Pregnancies</th>\n",
       "      <th>Glucose</th>\n",
       "      <th>BloodPressure</th>\n",
       "      <th>SkinThickness</th>\n",
       "      <th>Insulin</th>\n",
       "      <th>BMI</th>\n",
       "      <th>DiabetesPedigreeFunction</th>\n",
       "      <th>Age</th>\n",
       "      <th>Outcome</th>\n",
       "    </tr>\n",
       "  </thead>\n",
       "  <tbody>\n",
       "    <tr>\n",
       "      <th>0</th>\n",
       "      <td>6</td>\n",
       "      <td>148</td>\n",
       "      <td>72</td>\n",
       "      <td>35</td>\n",
       "      <td>0</td>\n",
       "      <td>33.6</td>\n",
       "      <td>0.627</td>\n",
       "      <td>50</td>\n",
       "      <td>1</td>\n",
       "    </tr>\n",
       "    <tr>\n",
       "      <th>1</th>\n",
       "      <td>1</td>\n",
       "      <td>85</td>\n",
       "      <td>66</td>\n",
       "      <td>29</td>\n",
       "      <td>0</td>\n",
       "      <td>26.6</td>\n",
       "      <td>0.351</td>\n",
       "      <td>31</td>\n",
       "      <td>0</td>\n",
       "    </tr>\n",
       "    <tr>\n",
       "      <th>2</th>\n",
       "      <td>8</td>\n",
       "      <td>183</td>\n",
       "      <td>64</td>\n",
       "      <td>0</td>\n",
       "      <td>0</td>\n",
       "      <td>23.3</td>\n",
       "      <td>0.672</td>\n",
       "      <td>32</td>\n",
       "      <td>1</td>\n",
       "    </tr>\n",
       "    <tr>\n",
       "      <th>3</th>\n",
       "      <td>1</td>\n",
       "      <td>89</td>\n",
       "      <td>66</td>\n",
       "      <td>23</td>\n",
       "      <td>94</td>\n",
       "      <td>28.1</td>\n",
       "      <td>0.167</td>\n",
       "      <td>21</td>\n",
       "      <td>0</td>\n",
       "    </tr>\n",
       "    <tr>\n",
       "      <th>4</th>\n",
       "      <td>0</td>\n",
       "      <td>137</td>\n",
       "      <td>40</td>\n",
       "      <td>35</td>\n",
       "      <td>168</td>\n",
       "      <td>43.1</td>\n",
       "      <td>2.288</td>\n",
       "      <td>33</td>\n",
       "      <td>1</td>\n",
       "    </tr>\n",
       "  </tbody>\n",
       "</table>\n",
       "</div>"
      ],
      "text/plain": [
       "   Pregnancies  Glucose  BloodPressure  SkinThickness  Insulin   BMI  \\\n",
       "0            6      148             72             35        0  33.6   \n",
       "1            1       85             66             29        0  26.6   \n",
       "2            8      183             64              0        0  23.3   \n",
       "3            1       89             66             23       94  28.1   \n",
       "4            0      137             40             35      168  43.1   \n",
       "\n",
       "   DiabetesPedigreeFunction  Age  Outcome  \n",
       "0                     0.627   50        1  \n",
       "1                     0.351   31        0  \n",
       "2                     0.672   32        1  \n",
       "3                     0.167   21        0  \n",
       "4                     2.288   33        1  "
      ]
     },
     "execution_count": 71,
     "metadata": {},
     "output_type": "execute_result"
    }
   ],
   "source": [
    "df=pd.read_csv(\"diabetes.csv\")\n",
    "df = df.select_dtypes(include = ['float64', 'int64']) \n",
    "df = df.dropna()\n",
    "df.head()"
   ]
  },
  {
   "cell_type": "code",
   "execution_count": 72,
   "id": "c3c00bf1-c2e6-4ab6-afc4-7387e1237549",
   "metadata": {},
   "outputs": [],
   "source": [
    "df_pregnancies = df[\"Pregnancies\"]"
   ]
  },
  {
   "cell_type": "code",
   "execution_count": 73,
   "id": "0dc1c77c-d234-4801-89e4-131122620ab7",
   "metadata": {},
   "outputs": [
    {
     "data": {
      "image/png": "[encoded data removed]",
      "text/plain": [
       "<Figure size 432x288 with 1 Axes>"
      ]
     },
     "metadata": {
      "needs_background": "light"
     },
     "output_type": "display_data"
    }
   ],
   "source": [
    "sns.boxplot(x = df_pregnancies);"
   ]
  },
  {
   "cell_type": "code",
   "execution_count": 74,
   "id": "305ce75d-de63-4927-b380-818a82302e2e",
   "metadata": {},
   "outputs": [],
   "source": [
    "Q1 = df_pregnancies.quantile(0.25)\n",
    "Q3 = df_pregnancies.quantile(0.75)\n",
    "IQR = Q3-Q1\n",
    "alt_sinir = Q1- 1.5*IQR\n",
    "ust_sinir = Q3 + 1.5*IQR"
   ]
  },
  {
   "cell_type": "code",
   "execution_count": 76,
   "id": "a6423c4d-cb45-456c-921a-5459284b49ce",
   "metadata": {},
   "outputs": [
    {
     "data": {
      "text/plain": [
       "13.5"
      ]
     },
     "execution_count": 76,
     "metadata": {},
     "output_type": "execute_result"
    }
   ],
   "source": [
    "ust_sinir"
   ]
  },
  {
   "cell_type": "code",
   "execution_count": 77,
   "id": "ce6b9ada-b109-4d2a-8854-1ff2323acc81",
   "metadata": {
    "tags": []
   },
   "outputs": [
    {
     "data": {
      "text/plain": [
       "0      False\n",
       "1      False\n",
       "2      False\n",
       "3      False\n",
       "4      False\n",
       "       ...  \n",
       "763    False\n",
       "764    False\n",
       "765    False\n",
       "766    False\n",
       "767    False\n",
       "Name: Pregnancies, Length: 768, dtype: bool"
      ]
     },
     "execution_count": 77,
     "metadata": {},
     "output_type": "execute_result"
    }
   ],
   "source": [
    "(df_pregnancies < alt_sinir) | (df_pregnancies > ust_sinir)"
   ]
  },
  {
   "cell_type": "code",
   "execution_count": 78,
   "id": "e7cdb1f9-09d5-4099-b099-5160665b50e8",
   "metadata": {},
   "outputs": [],
   "source": [
    "aykiri_tf = ((df_pregnancies < alt_sinir) | (df_pregnancies > ust_sinir))"
   ]
  },
  {
   "cell_type": "code",
   "execution_count": 79,
   "id": "43597169-24cd-4f30-8c6d-51bb46864181",
   "metadata": {},
   "outputs": [
    {
     "data": {
      "text/plain": [
       "88     15\n",
       "159    17\n",
       "298    14\n",
       "455    14\n",
       "Name: Pregnancies, dtype: int64"
      ]
     },
     "execution_count": 79,
     "metadata": {},
     "output_type": "execute_result"
    }
   ],
   "source": [
    "df_pregnancies[aykiri_tf]"
   ]
  },
  {
   "cell_type": "code",
   "execution_count": 80,
   "id": "7e262523-e68b-4d55-be93-55d276970d2a",
   "metadata": {},
   "outputs": [
    {
     "name": "stderr",
     "output_type": "stream",
     "text": [
      "<ipython-input-80-bc9cdf1eb7f1>:1: SettingWithCopyWarning: \n",
      "A value is trying to be set on a copy of a slice from a DataFrame\n",
      "\n",
      "See the caveats in the documentation: https://pandas.pydata.org/pandas-docs/stable/user_guide/indexing.html#returning-a-view-versus-a-copy\n",
      "  df_pregnancies[aykiri_tf] = ust_sinir\n"
     ]
    }
   ],
   "source": [
    "df_pregnancies[aykiri_tf] = ust_sinir"
   ]
  },
  {
   "cell_type": "code",
   "execution_count": 81,
   "id": "6843221a-5257-4a00-9183-db05e8687cb7",
   "metadata": {},
   "outputs": [
    {
     "data": {
      "text/plain": [
       "88     13.5\n",
       "159    13.5\n",
       "298    13.5\n",
       "455    13.5\n",
       "Name: Pregnancies, dtype: float64"
      ]
     },
     "execution_count": 81,
     "metadata": {},
     "output_type": "execute_result"
    }
   ],
   "source": [
    "df_pregnancies[aykiri_tf]"
   ]
  },
  {
   "cell_type": "code",
   "execution_count": 82,
   "id": "b30c9108-3ce9-44a2-9e8c-7395ca51d6dd",
   "metadata": {},
   "outputs": [
    {
     "data": {
      "image/png": "[encoded data removed]",
      "text/plain": [
       "<Figure size 432x288 with 1 Axes>"
      ]
     },
     "metadata": {
      "needs_background": "light"
     },
     "output_type": "display_data"
    }
   ],
   "source": [
    "sns.boxplot(x = df_pregnancies);"
   ]
  },
  {
   "cell_type": "code",
   "execution_count": 83,
   "id": "44f7b912-8279-46f5-b75c-90f628c905f3",
   "metadata": {},
   "outputs": [],
   "source": [
    "df_glucose = df[\"Glucose\"]"
   ]
  },
  {
   "cell_type": "code",
   "execution_count": 84,
   "id": "5a62d3d4-3c26-4326-82a4-b12de834288c",
   "metadata": {},
   "outputs": [
    {
     "data": {
      "image/png": "[encoded data removed]",
      "text/plain": [
       "<Figure size 432x288 with 1 Axes>"
      ]
     },
     "metadata": {
      "needs_background": "light"
     },
     "output_type": "display_data"
    }
   ],
   "source": [
    "sns.boxplot(x = df_glucose);"
   ]
  },
  {
   "cell_type": "code",
   "execution_count": 85,
   "id": "4eafc5b0-4c1d-42bc-ac43-494c3fccc866",
   "metadata": {},
   "outputs": [],
   "source": [
    "Q1 = df_glucose.quantile(0.25)\n",
    "Q3 = df_glucose.quantile(0.75)\n",
    "IQR = Q3-Q1\n",
    "alt_sinir = Q1- 1.5*IQR\n",
    "ust_sinir = Q3 + 1.5*IQR"
   ]
  },
  {
   "cell_type": "code",
   "execution_count": 86,
   "id": "c88fef7b-6638-4e5e-a9e6-85d5484d12f7",
   "metadata": {},
   "outputs": [
    {
     "data": {
      "text/plain": [
       "202.125"
      ]
     },
     "execution_count": 86,
     "metadata": {},
     "output_type": "execute_result"
    }
   ],
   "source": [
    "ust_sinir"
   ]
  },
  {
   "cell_type": "code",
   "execution_count": 87,
   "id": "950c4182-4e06-43ad-a97e-33c31c4de733",
   "metadata": {},
   "outputs": [
    {
     "data": {
      "text/plain": [
       "pandas.core.series.Series"
      ]
     },
     "execution_count": 87,
     "metadata": {},
     "output_type": "execute_result"
    }
   ],
   "source": [
    "type(df_glucose)"
   ]
  },
  {
   "cell_type": "code",
   "execution_count": 90,
   "id": "3ec83073-7116-4939-bd31-7edd7ced4218",
   "metadata": {},
   "outputs": [],
   "source": [
    "df_glucose = pd.DataFrame(df_glucose)"
   ]
  },
  {
   "cell_type": "code",
   "execution_count": 91,
   "id": "ceb91f66-00c6-4750-997a-077e4db8257e",
   "metadata": {},
   "outputs": [
    {
     "data": {
      "text/plain": [
       "(768, 1)"
      ]
     },
     "execution_count": 91,
     "metadata": {},
     "output_type": "execute_result"
    }
   ],
   "source": [
    "df_glucose.shape"
   ]
  },
  {
   "cell_type": "code",
   "execution_count": 92,
   "id": "c84c4ff2-9ccd-4eab-bf0f-2cb82f0e8ebc",
   "metadata": {},
   "outputs": [],
   "source": [
    "df_glucose = df_glucose[~((df_glucose < (alt_sinir)) | (df_glucose > (ust_sinir))).any(axis = 1)]"
   ]
  },
  {
   "cell_type": "code",
   "execution_count": 93,
   "id": "3198ed5e-580d-4abe-96dd-a5c2bd771d38",
   "metadata": {},
   "outputs": [
    {
     "data": {
      "text/plain": [
       "(763, 1)"
      ]
     },
     "execution_count": 93,
     "metadata": {},
     "output_type": "execute_result"
    }
   ],
   "source": [
    "df_glucose.shape"
   ]
  },
  {
   "cell_type": "code",
   "execution_count": 99,
   "id": "7a33e893-dee6-4cab-b626-d6d0e24cc9e4",
   "metadata": {},
   "outputs": [],
   "source": [
    "df[\"Glucose\"]=df_glucose"
   ]
  },
  {
   "cell_type": "code",
   "execution_count": 101,
   "id": "ab83dad9-89da-4771-9fc1-9f5bfb0e86f1",
   "metadata": {},
   "outputs": [],
   "source": [
    "df.to_csv(\"diabetes1.csv\")"
   ]
  },
  {
   "cell_type": "markdown",
   "id": "e2a6b108-0f11-4d03-b2e3-4434dcd947e4",
   "metadata": {},
   "source": [
    "# ikinci bölüm"
   ]
  },
  {
   "cell_type": "code",
   "execution_count": 8,
   "id": "ca24cce3-b612-46bf-86e6-983a0eeadb92",
   "metadata": {},
   "outputs": [
    {
     "data": {
      "text/html": [
       "<div>\n",
       "<style scoped>\n",
       "    .dataframe tbody tr th:only-of-type {\n",
       "        vertical-align: middle;\n",
       "    }\n",
       "\n",
       "    .dataframe tbody tr th {\n",
       "        vertical-align: top;\n",
       "    }\n",
       "\n",
       "    .dataframe thead th {\n",
       "        text-align: right;\n",
       "    }\n",
       "</style>\n",
       "<table border=\"1\" class=\"dataframe\">\n",
       "  <thead>\n",
       "    <tr style=\"text-align: right;\">\n",
       "      <th></th>\n",
       "      <th>Pregnancies</th>\n",
       "      <th>Glucose</th>\n",
       "      <th>BloodPressure</th>\n",
       "      <th>SkinThickness</th>\n",
       "      <th>Insulin</th>\n",
       "      <th>BMI</th>\n",
       "      <th>DiabetesPedigreeFunction</th>\n",
       "      <th>Age</th>\n",
       "      <th>Outcome</th>\n",
       "    </tr>\n",
       "  </thead>\n",
       "  <tbody>\n",
       "    <tr>\n",
       "      <th>0</th>\n",
       "      <td>6.0</td>\n",
       "      <td>148.0</td>\n",
       "      <td>72</td>\n",
       "      <td>35</td>\n",
       "      <td>0</td>\n",
       "      <td>33.6</td>\n",
       "      <td>0.627</td>\n",
       "      <td>50</td>\n",
       "      <td>1</td>\n",
       "    </tr>\n",
       "    <tr>\n",
       "      <th>1</th>\n",
       "      <td>1.0</td>\n",
       "      <td>85.0</td>\n",
       "      <td>66</td>\n",
       "      <td>29</td>\n",
       "      <td>0</td>\n",
       "      <td>26.6</td>\n",
       "      <td>0.351</td>\n",
       "      <td>31</td>\n",
       "      <td>0</td>\n",
       "    </tr>\n",
       "    <tr>\n",
       "      <th>2</th>\n",
       "      <td>8.0</td>\n",
       "      <td>183.0</td>\n",
       "      <td>64</td>\n",
       "      <td>0</td>\n",
       "      <td>0</td>\n",
       "      <td>23.3</td>\n",
       "      <td>0.672</td>\n",
       "      <td>32</td>\n",
       "      <td>1</td>\n",
       "    </tr>\n",
       "    <tr>\n",
       "      <th>3</th>\n",
       "      <td>1.0</td>\n",
       "      <td>89.0</td>\n",
       "      <td>66</td>\n",
       "      <td>23</td>\n",
       "      <td>94</td>\n",
       "      <td>28.1</td>\n",
       "      <td>0.167</td>\n",
       "      <td>21</td>\n",
       "      <td>0</td>\n",
       "    </tr>\n",
       "    <tr>\n",
       "      <th>4</th>\n",
       "      <td>0.0</td>\n",
       "      <td>137.0</td>\n",
       "      <td>40</td>\n",
       "      <td>35</td>\n",
       "      <td>168</td>\n",
       "      <td>43.1</td>\n",
       "      <td>2.288</td>\n",
       "      <td>33</td>\n",
       "      <td>1</td>\n",
       "    </tr>\n",
       "  </tbody>\n",
       "</table>\n",
       "</div>"
      ],
      "text/plain": [
       "   Pregnancies  Glucose  BloodPressure  SkinThickness  Insulin   BMI  \\\n",
       "0          6.0    148.0             72             35        0  33.6   \n",
       "1          1.0     85.0             66             29        0  26.6   \n",
       "2          8.0    183.0             64              0        0  23.3   \n",
       "3          1.0     89.0             66             23       94  28.1   \n",
       "4          0.0    137.0             40             35      168  43.1   \n",
       "\n",
       "   DiabetesPedigreeFunction  Age  Outcome  \n",
       "0                     0.627   50        1  \n",
       "1                     0.351   31        0  \n",
       "2                     0.672   32        1  \n",
       "3                     0.167   21        0  \n",
       "4                     2.288   33        1  "
      ]
     },
     "execution_count": 8,
     "metadata": {},
     "output_type": "execute_result"
    }
   ],
   "source": [
    "df=pd.read_csv(\"diabetes1.csv\")\n",
    "df = df.select_dtypes(include = ['float64', 'int64']) \n",
    "df = df.drop([\"Unnamed: 0\"],axis=1)\n",
    "df.head()"
   ]
  },
  {
   "cell_type": "code",
   "execution_count": 9,
   "id": "226ee17d-496b-48aa-9128-26d283748dda",
   "metadata": {},
   "outputs": [],
   "source": [
    "df_bloodPressure = df[\"BloodPressure\"]"
   ]
  },
  {
   "cell_type": "code",
   "execution_count": 10,
   "id": "3a9cf599-3afc-4216-8451-96a26b9c400c",
   "metadata": {},
   "outputs": [
    {
     "data": {
      "image/png": "[encoded data removed]",
      "text/plain": [
       "<Figure size 432x288 with 1 Axes>"
      ]
     },
     "metadata": {
      "needs_background": "light"
     },
     "output_type": "display_data"
    }
   ],
   "source": [
    "sns.boxplot(x = df_bloodPressure);"
   ]
  },
  {
   "cell_type": "code",
   "execution_count": 12,
   "id": "9f4c10ff-6677-4717-b5ba-c6bf7e4491c2",
   "metadata": {},
   "outputs": [
    {
     "data": {
      "text/plain": [
       "count    768.000000\n",
       "mean      69.105469\n",
       "std       19.355807\n",
       "min        0.000000\n",
       "25%       62.000000\n",
       "50%       72.000000\n",
       "75%       80.000000\n",
       "max      122.000000\n",
       "Name: BloodPressure, dtype: float64"
      ]
     },
     "execution_count": 12,
     "metadata": {},
     "output_type": "execute_result"
    }
   ],
   "source": [
    "df_bloodPressure.describe()"
   ]
  },
  {
   "cell_type": "code",
   "execution_count": 13,
   "id": "4861975d-0733-4826-92f6-6af3bad3058e",
   "metadata": {},
   "outputs": [],
   "source": [
    "Q1 = df_bloodPressure.quantile(0.25)\n",
    "Q3 = df_bloodPressure.quantile(0.75)\n",
    "IQR = Q3-Q1\n",
    "alt_sinir = Q1- 1.5*IQR\n",
    "ust_sinir = Q3 + 1.5*IQR"
   ]
  },
  {
   "cell_type": "code",
   "execution_count": 14,
   "id": "bfdc56fb-ea9b-4e1a-8c64-a766898beb08",
   "metadata": {},
   "outputs": [
    {
     "data": {
      "text/plain": [
       "35.0"
      ]
     },
     "execution_count": 14,
     "metadata": {},
     "output_type": "execute_result"
    }
   ],
   "source": [
    "alt_sinir"
   ]
  },
  {
   "cell_type": "code",
   "execution_count": 15,
   "id": "48556bb4-2aec-4425-ba27-cf7822cb51de",
   "metadata": {},
   "outputs": [],
   "source": [
    "aykiri_tf = (df_bloodPressure < alt_sinir) "
   ]
  },
  {
   "cell_type": "code",
   "execution_count": 17,
   "id": "324d3914-8d01-44f7-8777-93bdb115b920",
   "metadata": {},
   "outputs": [
    {
     "data": {
      "text/plain": [
       "38"
      ]
     },
     "execution_count": 17,
     "metadata": {},
     "output_type": "execute_result"
    }
   ],
   "source": [
    "df_bloodPressure[aykiri_tf].count()"
   ]
  },
  {
   "cell_type": "code",
   "execution_count": 18,
   "id": "f5d967c6-6bfb-4c91-890d-b4f6b683c859",
   "metadata": {},
   "outputs": [
    {
     "name": "stderr",
     "output_type": "stream",
     "text": [
      "<ipython-input-18-52469cd5db9d>:1: SettingWithCopyWarning: \n",
      "A value is trying to be set on a copy of a slice from a DataFrame\n",
      "\n",
      "See the caveats in the documentation: https://pandas.pydata.org/pandas-docs/stable/user_guide/indexing.html#returning-a-view-versus-a-copy\n",
      "  df_bloodPressure[aykiri_tf] = alt_sinir\n"
     ]
    }
   ],
   "source": [
    "df_bloodPressure[aykiri_tf] = alt_sinir"
   ]
  },
  {
   "cell_type": "code",
   "execution_count": 19,
   "id": "2f87adb0-06e8-491e-a2df-3e7d56fe6819",
   "metadata": {},
   "outputs": [
    {
     "data": {
      "image/png": "[encoded data removed]",
      "text/plain": [
       "<Figure size 432x288 with 1 Axes>"
      ]
     },
     "metadata": {
      "needs_background": "light"
     },
     "output_type": "display_data"
    }
   ],
   "source": [
    "sns.boxplot(x = df_bloodPressure);"
   ]
  },
  {
   "cell_type": "code",
   "execution_count": 20,
   "id": "acb243e1-9698-40b0-b18d-9ad4cc21c71d",
   "metadata": {},
   "outputs": [
    {
     "data": {
      "text/plain": [
       "count    768.000000\n",
       "mean      70.727865\n",
       "std       14.320604\n",
       "min       35.000000\n",
       "25%       62.000000\n",
       "50%       72.000000\n",
       "75%       80.000000\n",
       "max      122.000000\n",
       "Name: BloodPressure, dtype: float64"
      ]
     },
     "execution_count": 20,
     "metadata": {},
     "output_type": "execute_result"
    }
   ],
   "source": [
    "df_bloodPressure.describe()"
   ]
  },
  {
   "cell_type": "code",
   "execution_count": 21,
   "id": "c22947e6-aac2-437d-8b13-94145a4c9ee8",
   "metadata": {},
   "outputs": [],
   "source": [
    "df_skinThickness = df[\"SkinThickness\"]"
   ]
  },
  {
   "cell_type": "code",
   "execution_count": 22,
   "id": "56d4881b-e411-4088-8af3-d302b60cb269",
   "metadata": {},
   "outputs": [
    {
     "data": {
      "image/png": "[encoded data removed]",
      "text/plain": [
       "<Figure size 432x288 with 1 Axes>"
      ]
     },
     "metadata": {
      "needs_background": "light"
     },
     "output_type": "display_data"
    }
   ],
   "source": [
    "sns.boxplot(x = df_skinThickness);"
   ]
  },
  {
   "cell_type": "code",
   "execution_count": 23,
   "id": "2aa25e79-eba4-4767-bb03-b757fa2adfcd",
   "metadata": {},
   "outputs": [
    {
     "data": {
      "text/plain": [
       "count    768.000000\n",
       "mean      20.536458\n",
       "std       15.952218\n",
       "min        0.000000\n",
       "25%        0.000000\n",
       "50%       23.000000\n",
       "75%       32.000000\n",
       "max       99.000000\n",
       "Name: SkinThickness, dtype: float64"
      ]
     },
     "execution_count": 23,
     "metadata": {},
     "output_type": "execute_result"
    }
   ],
   "source": [
    "df_skinThickness.describe()"
   ]
  },
  {
   "cell_type": "code",
   "execution_count": 24,
   "id": "c4d90174-1652-485c-b00d-aa8513f97ba5",
   "metadata": {},
   "outputs": [],
   "source": [
    "Q1 = df_skinThickness.quantile(0.25)\n",
    "Q3 = df_skinThickness.quantile(0.75)\n",
    "IQR = Q3-Q1\n",
    "alt_sinir = Q1- 1.5*IQR\n",
    "ust_sinir = Q3 + 1.5*IQR"
   ]
  },
  {
   "cell_type": "code",
   "execution_count": 26,
   "id": "22cd972c-6d33-4e71-ac27-02c383bb12c5",
   "metadata": {},
   "outputs": [
    {
     "data": {
      "text/plain": [
       "80.0"
      ]
     },
     "execution_count": 26,
     "metadata": {},
     "output_type": "execute_result"
    }
   ],
   "source": [
    "ust_sinir"
   ]
  },
  {
   "cell_type": "code",
   "execution_count": 27,
   "id": "88325dac-500e-4d6d-bdcb-24ff70ec8531",
   "metadata": {},
   "outputs": [],
   "source": [
    "df_skinThickness = pd.DataFrame(df_skinThickness)"
   ]
  },
  {
   "cell_type": "code",
   "execution_count": 28,
   "id": "aa5c1389-4a38-42c8-97ca-252b2506557e",
   "metadata": {},
   "outputs": [],
   "source": [
    "df_skinThickness = df_skinThickness[~((df_skinThickness < (alt_sinir)) | (df_skinThickness > (ust_sinir))).\n",
    "                                    any(axis = 1)]"
   ]
  },
  {
   "cell_type": "code",
   "execution_count": 29,
   "id": "850aee14-157a-4434-9b89-46b4dd12d9c3",
   "metadata": {},
   "outputs": [],
   "source": [
    "df[\"SkinThickness\"]=df_skinThickness"
   ]
  },
  {
   "cell_type": "code",
   "execution_count": 58,
   "id": "7110f6d6-73af-46fb-8d6b-584b4c986058",
   "metadata": {},
   "outputs": [],
   "source": [
    "#insülin değeri sıfır olabildiği için alt sınırda herhangi bir işlem yapmayacğız\n",
    "#insülin değeri çok fazla değerler olabileceği için aykırı gözlem olarak kabul etmedik"
   ]
  },
  {
   "cell_type": "code",
   "execution_count": 30,
   "id": "121e8200-34be-473b-9984-fb1362db6a8b",
   "metadata": {},
   "outputs": [
    {
     "data": {
      "image/png": "[encoded data removed]",
      "text/plain": [
       "<Figure size 432x288 with 1 Axes>"
      ]
     },
     "metadata": {
      "needs_background": "light"
     },
     "output_type": "display_data"
    }
   ],
   "source": [
    "df_insulin = df[\"Insulin\"]\n",
    "sns.boxplot(x = df_insulin);"
   ]
  },
  {
   "cell_type": "code",
   "execution_count": 31,
   "id": "f2ab3e91-94c3-41f9-8915-d0420093143c",
   "metadata": {},
   "outputs": [],
   "source": [
    "Q1 = df_insulin.quantile(0.25)\n",
    "Q3 = df_insulin.quantile(0.75)\n",
    "IQR = Q3-Q1\n",
    "alt_sinir = Q1- 1.5*IQR\n",
    "ust_sinir = Q3 + 1.5*IQR"
   ]
  },
  {
   "cell_type": "code",
   "execution_count": 33,
   "id": "49241192-9fc1-4508-bebc-1a80fd9ed29e",
   "metadata": {},
   "outputs": [
    {
     "data": {
      "text/plain": [
       "318.125"
      ]
     },
     "execution_count": 33,
     "metadata": {},
     "output_type": "execute_result"
    }
   ],
   "source": [
    "ust_sinir"
   ]
  },
  {
   "cell_type": "code",
   "execution_count": 34,
   "id": "1ab7e810-15ae-46df-8743-46cea2d7d140",
   "metadata": {},
   "outputs": [
    {
     "data": {
      "text/plain": [
       "-190.875"
      ]
     },
     "execution_count": 34,
     "metadata": {},
     "output_type": "execute_result"
    }
   ],
   "source": [
    "alt_sinir"
   ]
  },
  {
   "cell_type": "code",
   "execution_count": 35,
   "id": "e1058dce-08e2-4b70-a884-8043c2b4f1e3",
   "metadata": {},
   "outputs": [
    {
     "data": {
      "text/plain": [
       "count    768.000000\n",
       "mean      79.799479\n",
       "std      115.244002\n",
       "min        0.000000\n",
       "25%        0.000000\n",
       "50%       30.500000\n",
       "75%      127.250000\n",
       "max      846.000000\n",
       "Name: Insulin, dtype: float64"
      ]
     },
     "execution_count": 35,
     "metadata": {},
     "output_type": "execute_result"
    }
   ],
   "source": [
    "df_insulin.describe().T"
   ]
  },
  {
   "cell_type": "code",
   "execution_count": 36,
   "id": "02daf00b-c45e-4a41-9b3a-92f2ab1c1254",
   "metadata": {},
   "outputs": [
    {
     "name": "stderr",
     "output_type": "stream",
     "text": [
      "C:\\Users\\HP\\anaconda3\\lib\\site-packages\\seaborn\\distributions.py:2557: FutureWarning: `distplot` is a deprecated function and will be removed in a future version. Please adapt your code to use either `displot` (a figure-level function with similar flexibility) or `histplot` (an axes-level function for histograms).\n",
      "  warnings.warn(msg, FutureWarning)\n"
     ]
    },
    {
     "data": {
      "image/png": "[encoded data removed]",
      "text/plain": [
       "<Figure size 432x288 with 1 Axes>"
      ]
     },
     "metadata": {
      "needs_background": "light"
     },
     "output_type": "display_data"
    }
   ],
   "source": [
    "sns.distplot(df.Insulin);"
   ]
  },
  {
   "cell_type": "code",
   "execution_count": 37,
   "id": "e437e400-21b4-4d26-b5e2-46ee856ff635",
   "metadata": {},
   "outputs": [
    {
     "data": {
      "image/png": "[encoded data removed]",
      "text/plain": [
       "<Figure size 432x288 with 1 Axes>"
      ]
     },
     "metadata": {
      "needs_background": "light"
     },
     "output_type": "display_data"
    }
   ],
   "source": [
    "df_bmi = df[\"BMI\"]\n",
    "sns.boxplot(x = df_bmi);"
   ]
  },
  {
   "cell_type": "code",
   "execution_count": 38,
   "id": "dd74face-9b21-49be-a14b-962065c9788c",
   "metadata": {},
   "outputs": [],
   "source": [
    "Q1 = df_bmi.quantile(0.25)\n",
    "Q3 = df_bmi.quantile(0.75)\n",
    "IQR = Q3-Q1\n",
    "alt_sinir = Q1- 1.5*IQR\n",
    "ust_sinir = Q3 + 1.5*IQR"
   ]
  },
  {
   "cell_type": "code",
   "execution_count": 44,
   "id": "38741da1-1738-42ee-a32f-021ae27fa4c4",
   "metadata": {},
   "outputs": [
    {
     "data": {
      "text/plain": [
       "13.35"
      ]
     },
     "execution_count": 44,
     "metadata": {},
     "output_type": "execute_result"
    }
   ],
   "source": [
    "alt_sinir"
   ]
  },
  {
   "cell_type": "code",
   "execution_count": 40,
   "id": "1b3892ae-29ab-44d9-bd08-ed1b09bc2255",
   "metadata": {},
   "outputs": [
    {
     "data": {
      "text/plain": [
       "50.550000000000004"
      ]
     },
     "execution_count": 40,
     "metadata": {},
     "output_type": "execute_result"
    }
   ],
   "source": [
    "ust_sinir"
   ]
  },
  {
   "cell_type": "code",
   "execution_count": 42,
   "id": "4d76804b-8268-4b53-9bb8-81e4a83a4aa4",
   "metadata": {},
   "outputs": [
    {
     "data": {
      "text/plain": [
       "count    768.000000\n",
       "mean      31.992578\n",
       "std        7.884160\n",
       "min        0.000000\n",
       "25%       27.300000\n",
       "50%       32.000000\n",
       "75%       36.600000\n",
       "max       67.100000\n",
       "Name: BMI, dtype: float64"
      ]
     },
     "execution_count": 42,
     "metadata": {},
     "output_type": "execute_result"
    }
   ],
   "source": [
    "df_bmi.describe()"
   ]
  },
  {
   "cell_type": "code",
   "execution_count": 46,
   "id": "54ed677b-8b12-478c-9386-dc4e34c0f843",
   "metadata": {},
   "outputs": [],
   "source": [
    "aykiri_tf = (df_bmi < alt_sinir) "
   ]
  },
  {
   "cell_type": "code",
   "execution_count": 47,
   "id": "8550bb09-50ba-4ba3-b9a8-cdafbbcc3b7d",
   "metadata": {},
   "outputs": [
    {
     "data": {
      "text/plain": [
       "11"
      ]
     },
     "execution_count": 47,
     "metadata": {},
     "output_type": "execute_result"
    }
   ],
   "source": [
    "df_bmi[aykiri_tf].count()"
   ]
  },
  {
   "cell_type": "code",
   "execution_count": 48,
   "id": "301f81d0-0173-4ead-8332-f95ccd4987dd",
   "metadata": {},
   "outputs": [
    {
     "name": "stderr",
     "output_type": "stream",
     "text": [
      "<ipython-input-48-d5be18b7bc0c>:1: SettingWithCopyWarning: \n",
      "A value is trying to be set on a copy of a slice from a DataFrame\n",
      "\n",
      "See the caveats in the documentation: https://pandas.pydata.org/pandas-docs/stable/user_guide/indexing.html#returning-a-view-versus-a-copy\n",
      "  df_bmi[aykiri_tf] = alt_sinir\n"
     ]
    }
   ],
   "source": [
    "df_bmi[aykiri_tf] = alt_sinir"
   ]
  },
  {
   "cell_type": "code",
   "execution_count": 49,
   "id": "db2975ee-9875-4505-aa8e-5919f4874d43",
   "metadata": {},
   "outputs": [
    {
     "data": {
      "image/png": "[encoded data removed]",
      "text/plain": [
       "<Figure size 432x288 with 1 Axes>"
      ]
     },
     "metadata": {
      "needs_background": "light"
     },
     "output_type": "display_data"
    }
   ],
   "source": [
    "sns.boxplot(x = df_bmi);"
   ]
  },
  {
   "cell_type": "code",
   "execution_count": 50,
   "id": "f65a639f-03f6-478e-90b5-61db7403d9b9",
   "metadata": {},
   "outputs": [
    {
     "data": {
      "text/html": [
       "<div>\n",
       "<style scoped>\n",
       "    .dataframe tbody tr th:only-of-type {\n",
       "        vertical-align: middle;\n",
       "    }\n",
       "\n",
       "    .dataframe tbody tr th {\n",
       "        vertical-align: top;\n",
       "    }\n",
       "\n",
       "    .dataframe thead th {\n",
       "        text-align: right;\n",
       "    }\n",
       "</style>\n",
       "<table border=\"1\" class=\"dataframe\">\n",
       "  <thead>\n",
       "    <tr style=\"text-align: right;\">\n",
       "      <th></th>\n",
       "      <th>Pregnancies</th>\n",
       "      <th>Glucose</th>\n",
       "      <th>BloodPressure</th>\n",
       "      <th>SkinThickness</th>\n",
       "      <th>Insulin</th>\n",
       "      <th>BMI</th>\n",
       "      <th>DiabetesPedigreeFunction</th>\n",
       "      <th>Age</th>\n",
       "      <th>Outcome</th>\n",
       "    </tr>\n",
       "  </thead>\n",
       "  <tbody>\n",
       "    <tr>\n",
       "      <th>0</th>\n",
       "      <td>6.0</td>\n",
       "      <td>148.0</td>\n",
       "      <td>72</td>\n",
       "      <td>35.0</td>\n",
       "      <td>0</td>\n",
       "      <td>33.6</td>\n",
       "      <td>0.627</td>\n",
       "      <td>50</td>\n",
       "      <td>1</td>\n",
       "    </tr>\n",
       "    <tr>\n",
       "      <th>1</th>\n",
       "      <td>1.0</td>\n",
       "      <td>85.0</td>\n",
       "      <td>66</td>\n",
       "      <td>29.0</td>\n",
       "      <td>0</td>\n",
       "      <td>26.6</td>\n",
       "      <td>0.351</td>\n",
       "      <td>31</td>\n",
       "      <td>0</td>\n",
       "    </tr>\n",
       "    <tr>\n",
       "      <th>2</th>\n",
       "      <td>8.0</td>\n",
       "      <td>183.0</td>\n",
       "      <td>64</td>\n",
       "      <td>0.0</td>\n",
       "      <td>0</td>\n",
       "      <td>23.3</td>\n",
       "      <td>0.672</td>\n",
       "      <td>32</td>\n",
       "      <td>1</td>\n",
       "    </tr>\n",
       "    <tr>\n",
       "      <th>3</th>\n",
       "      <td>1.0</td>\n",
       "      <td>89.0</td>\n",
       "      <td>66</td>\n",
       "      <td>23.0</td>\n",
       "      <td>94</td>\n",
       "      <td>28.1</td>\n",
       "      <td>0.167</td>\n",
       "      <td>21</td>\n",
       "      <td>0</td>\n",
       "    </tr>\n",
       "    <tr>\n",
       "      <th>4</th>\n",
       "      <td>0.0</td>\n",
       "      <td>137.0</td>\n",
       "      <td>40</td>\n",
       "      <td>35.0</td>\n",
       "      <td>168</td>\n",
       "      <td>43.1</td>\n",
       "      <td>2.288</td>\n",
       "      <td>33</td>\n",
       "      <td>1</td>\n",
       "    </tr>\n",
       "  </tbody>\n",
       "</table>\n",
       "</div>"
      ],
      "text/plain": [
       "   Pregnancies  Glucose  BloodPressure  SkinThickness  Insulin   BMI  \\\n",
       "0          6.0    148.0             72           35.0        0  33.6   \n",
       "1          1.0     85.0             66           29.0        0  26.6   \n",
       "2          8.0    183.0             64            0.0        0  23.3   \n",
       "3          1.0     89.0             66           23.0       94  28.1   \n",
       "4          0.0    137.0             40           35.0      168  43.1   \n",
       "\n",
       "   DiabetesPedigreeFunction  Age  Outcome  \n",
       "0                     0.627   50        1  \n",
       "1                     0.351   31        0  \n",
       "2                     0.672   32        1  \n",
       "3                     0.167   21        0  \n",
       "4                     2.288   33        1  "
      ]
     },
     "execution_count": 50,
     "metadata": {},
     "output_type": "execute_result"
    }
   ],
   "source": [
    "df.head()"
   ]
  },
  {
   "cell_type": "code",
   "execution_count": 51,
   "id": "a4c07e39-837a-489a-abf6-bd3292e3aae5",
   "metadata": {},
   "outputs": [
    {
     "data": {
      "image/png": "[encoded data removed]",
      "text/plain": [
       "<Figure size 432x288 with 1 Axes>"
      ]
     },
     "metadata": {
      "needs_background": "light"
     },
     "output_type": "display_data"
    }
   ],
   "source": [
    "df_diabetesPedigreeFunction = df[\"DiabetesPedigreeFunction\"]\n",
    "sns.boxplot(x = df_bmi);"
   ]
  },
  {
   "cell_type": "code",
   "execution_count": 52,
   "id": "8c108d94-5bf5-436c-abbc-971c449d876e",
   "metadata": {},
   "outputs": [],
   "source": [
    "Q1 = df_diabetesPedigreeFunction.quantile(0.25)\n",
    "Q3 = df_diabetesPedigreeFunction.quantile(0.75)\n",
    "IQR = Q3-Q1\n",
    "alt_sinir = Q1- 1.5*IQR\n",
    "ust_sinir = Q3 + 1.5*IQR"
   ]
  },
  {
   "cell_type": "code",
   "execution_count": 53,
   "id": "0e845098-ca3d-45a0-853d-f77828a9bd6d",
   "metadata": {},
   "outputs": [
    {
     "data": {
      "text/plain": [
       "-0.32999999999999996"
      ]
     },
     "execution_count": 53,
     "metadata": {},
     "output_type": "execute_result"
    }
   ],
   "source": [
    "alt_sinir"
   ]
  },
  {
   "cell_type": "code",
   "execution_count": 54,
   "id": "d8f3ed4b-f5e3-47a4-9cd8-ef47ba10dcf2",
   "metadata": {},
   "outputs": [
    {
     "data": {
      "text/plain": [
       "1.2"
      ]
     },
     "execution_count": 54,
     "metadata": {},
     "output_type": "execute_result"
    }
   ],
   "source": [
    "ust_sinir"
   ]
  },
  {
   "cell_type": "code",
   "execution_count": 55,
   "id": "c44733a4-bcac-4e0d-a32c-bc1653a3178b",
   "metadata": {},
   "outputs": [
    {
     "data": {
      "text/plain": [
       "count    768.000000\n",
       "mean       0.471876\n",
       "std        0.331329\n",
       "min        0.078000\n",
       "25%        0.243750\n",
       "50%        0.372500\n",
       "75%        0.626250\n",
       "max        2.420000\n",
       "Name: DiabetesPedigreeFunction, dtype: float64"
      ]
     },
     "execution_count": 55,
     "metadata": {},
     "output_type": "execute_result"
    }
   ],
   "source": [
    "df_diabetesPedigreeFunction.describe()"
   ]
  },
  {
   "cell_type": "code",
   "execution_count": 56,
   "id": "376e95b7-98fe-442f-b2c0-6a6f22ac6b6c",
   "metadata": {},
   "outputs": [
    {
     "name": "stderr",
     "output_type": "stream",
     "text": [
      "C:\\Users\\HP\\anaconda3\\lib\\site-packages\\seaborn\\distributions.py:2557: FutureWarning: `distplot` is a deprecated function and will be removed in a future version. Please adapt your code to use either `displot` (a figure-level function with similar flexibility) or `histplot` (an axes-level function for histograms).\n",
      "  warnings.warn(msg, FutureWarning)\n"
     ]
    },
    {
     "data": {
      "image/png": "[encoded data removed]",
      "text/plain": [
       "<Figure size 432x288 with 1 Axes>"
      ]
     },
     "metadata": {
      "needs_background": "light"
     },
     "output_type": "display_data"
    }
   ],
   "source": [
    "sns.distplot(df.DiabetesPedigreeFunction);"
   ]
  },
  {
   "cell_type": "code",
   "execution_count": 57,
   "id": "ad98fd40-def0-4abe-8e08-9d7d91c2338a",
   "metadata": {},
   "outputs": [],
   "source": [
    "#sorun çıkartmaz"
   ]
  },
  {
   "cell_type": "code",
   "execution_count": 59,
   "id": "e6d4de38-bc41-40f2-98a9-4f021530d60e",
   "metadata": {},
   "outputs": [
    {
     "data": {
      "image/png": "[encoded data removed]",
      "text/plain": [
       "<Figure size 432x288 with 1 Axes>"
      ]
     },
     "metadata": {
      "needs_background": "light"
     },
     "output_type": "display_data"
    }
   ],
   "source": [
    "df_age = df[\"Age\"]\n",
    "sns.boxplot(x = df_age);"
   ]
  },
  {
   "cell_type": "code",
   "execution_count": 60,
   "id": "b877f44b-c67b-4162-bf5f-e89e0f4f55af",
   "metadata": {},
   "outputs": [
    {
     "name": "stderr",
     "output_type": "stream",
     "text": [
      "C:\\Users\\HP\\anaconda3\\lib\\site-packages\\seaborn\\distributions.py:2557: FutureWarning: `distplot` is a deprecated function and will be removed in a future version. Please adapt your code to use either `displot` (a figure-level function with similar flexibility) or `histplot` (an axes-level function for histograms).\n",
      "  warnings.warn(msg, FutureWarning)\n"
     ]
    },
    {
     "data": {
      "image/png": "[encoded data removed]",
      "text/plain": [
       "<Figure size 432x288 with 1 Axes>"
      ]
     },
     "metadata": {
      "needs_background": "light"
     },
     "output_type": "display_data"
    }
   ],
   "source": [
    "sns.distplot(df.Age);"
   ]
  },
  {
   "cell_type": "code",
   "execution_count": 67,
   "id": "6db55e0d-9390-491b-bc16-58bb0c0f4e22",
   "metadata": {},
   "outputs": [],
   "source": [
    "df.to_csv(\"diabetes2.csv\")"
   ]
  },
  {
   "cell_type": "code",
   "execution_count": 68,
   "id": "01fcf45d-8d75-4103-bfc0-3af0d232dae8",
   "metadata": {},
   "outputs": [
    {
     "data": {
      "text/html": [
       "<div>\n",
       "<style scoped>\n",
       "    .dataframe tbody tr th:only-of-type {\n",
       "        vertical-align: middle;\n",
       "    }\n",
       "\n",
       "    .dataframe tbody tr th {\n",
       "        vertical-align: top;\n",
       "    }\n",
       "\n",
       "    .dataframe thead th {\n",
       "        text-align: right;\n",
       "    }\n",
       "</style>\n",
       "<table border=\"1\" class=\"dataframe\">\n",
       "  <thead>\n",
       "    <tr style=\"text-align: right;\">\n",
       "      <th></th>\n",
       "      <th>count</th>\n",
       "      <th>mean</th>\n",
       "      <th>std</th>\n",
       "      <th>min</th>\n",
       "      <th>25%</th>\n",
       "      <th>50%</th>\n",
       "      <th>75%</th>\n",
       "      <th>max</th>\n",
       "    </tr>\n",
       "  </thead>\n",
       "  <tbody>\n",
       "    <tr>\n",
       "      <th>Pregnancies</th>\n",
       "      <td>768.0</td>\n",
       "      <td>3.837240</td>\n",
       "      <td>3.344157</td>\n",
       "      <td>0.000</td>\n",
       "      <td>1.00000</td>\n",
       "      <td>3.0000</td>\n",
       "      <td>6.00000</td>\n",
       "      <td>13.50</td>\n",
       "    </tr>\n",
       "    <tr>\n",
       "      <th>Glucose</th>\n",
       "      <td>763.0</td>\n",
       "      <td>121.686763</td>\n",
       "      <td>30.535641</td>\n",
       "      <td>44.000</td>\n",
       "      <td>99.00000</td>\n",
       "      <td>117.0000</td>\n",
       "      <td>141.00000</td>\n",
       "      <td>199.00</td>\n",
       "    </tr>\n",
       "    <tr>\n",
       "      <th>BloodPressure</th>\n",
       "      <td>768.0</td>\n",
       "      <td>70.727865</td>\n",
       "      <td>14.320604</td>\n",
       "      <td>35.000</td>\n",
       "      <td>62.00000</td>\n",
       "      <td>72.0000</td>\n",
       "      <td>80.00000</td>\n",
       "      <td>122.00</td>\n",
       "    </tr>\n",
       "    <tr>\n",
       "      <th>SkinThickness</th>\n",
       "      <td>767.0</td>\n",
       "      <td>20.434159</td>\n",
       "      <td>15.708524</td>\n",
       "      <td>0.000</td>\n",
       "      <td>0.00000</td>\n",
       "      <td>23.0000</td>\n",
       "      <td>32.00000</td>\n",
       "      <td>63.00</td>\n",
       "    </tr>\n",
       "    <tr>\n",
       "      <th>Insulin</th>\n",
       "      <td>768.0</td>\n",
       "      <td>79.799479</td>\n",
       "      <td>115.244002</td>\n",
       "      <td>0.000</td>\n",
       "      <td>0.00000</td>\n",
       "      <td>30.5000</td>\n",
       "      <td>127.25000</td>\n",
       "      <td>846.00</td>\n",
       "    </tr>\n",
       "    <tr>\n",
       "      <th>BMI</th>\n",
       "      <td>768.0</td>\n",
       "      <td>32.183789</td>\n",
       "      <td>7.240770</td>\n",
       "      <td>13.350</td>\n",
       "      <td>27.30000</td>\n",
       "      <td>32.0000</td>\n",
       "      <td>36.60000</td>\n",
       "      <td>67.10</td>\n",
       "    </tr>\n",
       "    <tr>\n",
       "      <th>DiabetesPedigreeFunction</th>\n",
       "      <td>768.0</td>\n",
       "      <td>0.471876</td>\n",
       "      <td>0.331329</td>\n",
       "      <td>0.078</td>\n",
       "      <td>0.24375</td>\n",
       "      <td>0.3725</td>\n",
       "      <td>0.62625</td>\n",
       "      <td>2.42</td>\n",
       "    </tr>\n",
       "    <tr>\n",
       "      <th>Age</th>\n",
       "      <td>768.0</td>\n",
       "      <td>33.240885</td>\n",
       "      <td>11.760232</td>\n",
       "      <td>21.000</td>\n",
       "      <td>24.00000</td>\n",
       "      <td>29.0000</td>\n",
       "      <td>41.00000</td>\n",
       "      <td>81.00</td>\n",
       "    </tr>\n",
       "    <tr>\n",
       "      <th>Outcome</th>\n",
       "      <td>768.0</td>\n",
       "      <td>0.348958</td>\n",
       "      <td>0.476951</td>\n",
       "      <td>0.000</td>\n",
       "      <td>0.00000</td>\n",
       "      <td>0.0000</td>\n",
       "      <td>1.00000</td>\n",
       "      <td>1.00</td>\n",
       "    </tr>\n",
       "  </tbody>\n",
       "</table>\n",
       "</div>"
      ],
      "text/plain": [
       "                          count        mean         std     min       25%  \\\n",
       "Pregnancies               768.0    3.837240    3.344157   0.000   1.00000   \n",
       "Glucose                   763.0  121.686763   30.535641  44.000  99.00000   \n",
       "BloodPressure             768.0   70.727865   14.320604  35.000  62.00000   \n",
       "SkinThickness             767.0   20.434159   15.708524   0.000   0.00000   \n",
       "Insulin                   768.0   79.799479  115.244002   0.000   0.00000   \n",
       "BMI                       768.0   32.183789    7.240770  13.350  27.30000   \n",
       "DiabetesPedigreeFunction  768.0    0.471876    0.331329   0.078   0.24375   \n",
       "Age                       768.0   33.240885   11.760232  21.000  24.00000   \n",
       "Outcome                   768.0    0.348958    0.476951   0.000   0.00000   \n",
       "\n",
       "                               50%        75%     max  \n",
       "Pregnancies                 3.0000    6.00000   13.50  \n",
       "Glucose                   117.0000  141.00000  199.00  \n",
       "BloodPressure              72.0000   80.00000  122.00  \n",
       "SkinThickness              23.0000   32.00000   63.00  \n",
       "Insulin                    30.5000  127.25000  846.00  \n",
       "BMI                        32.0000   36.60000   67.10  \n",
       "DiabetesPedigreeFunction    0.3725    0.62625    2.42  \n",
       "Age                        29.0000   41.00000   81.00  \n",
       "Outcome                     0.0000    1.00000    1.00  "
      ]
     },
     "execution_count": 68,
     "metadata": {},
     "output_type": "execute_result"
    }
   ],
   "source": [
    "df.describe().T"
   ]
  }
 ],
 "metadata": {
  "kernelspec": {
   "display_name": "Python 3",
   "language": "python",
   "name": "python3"
  },
  "language_info": {
   "codemirror_mode": {
    "name": "ipython",
    "version": 3
   },
   "file_extension": ".py",
   "mimetype": "text/x-python",
   "name": "python",
   "nbconvert_exporter": "python",
   "pygments_lexer": "ipython3",
   "version": "3.8.8"
  }
 },
 "nbformat": 4,
 "nbformat_minor": 5
}
